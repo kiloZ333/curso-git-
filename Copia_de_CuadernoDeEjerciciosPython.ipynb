{
  "nbformat": 4,
  "nbformat_minor": 0,
  "metadata": {
    "colab": {
      "provenance": [],
      "toc_visible": true,
      "include_colab_link": true
    },
    "kernelspec": {
      "name": "python3",
      "display_name": "Python 3"
    },
    "language_info": {
      "name": "python"
    }
  },
  "cells": [
    {
      "cell_type": "markdown",
      "metadata": {
        "id": "view-in-github",
        "colab_type": "text"
      },
      "source": [
        "<a href=\"https://colab.research.google.com/github/kiloZ333/curso-git-/blob/master/Copia_de_CuadernoDeEjerciciosPython.ipynb\" target=\"_parent\"><img src=\"https://colab.research.google.com/assets/colab-badge.svg\" alt=\"Open In Colab\"/></a>"
      ]
    },
    {
      "cell_type": "markdown",
      "source": [
        "### Ejercicios Variables y operaciones aritméticas\n",
        "\n",
        "---\n"
      ],
      "metadata": {
        "id": "Htyx4gW8cILB"
      }
    },
    {
      "cell_type": "markdown",
      "source": [
        "## 1.A) - Solo tienes que escribir una variable con el nombre que quisieras y ponerle un mensaje:"
      ],
      "metadata": {
        "id": "PyT5N-1Mh0uw"
      }
    },
    {
      "cell_type": "code",
      "source": [
        " nombre = input(\"A continuación, ingrese su nombre: \")"
      ],
      "metadata": {
        "id": "jPPWJdmkhNkj"
      },
      "execution_count": null,
      "outputs": []
    },
    {
      "cell_type": "markdown",
      "source": [
        "## 1.B) - Crear un programa con dos variables y se les da un valor numérico a cada una."
      ],
      "metadata": {
        "id": "dkFKAYNThB4_"
      }
    },
    {
      "cell_type": "code",
      "source": [
        "x = 10\n",
        "\n",
        "y = 5"
      ],
      "metadata": {
        "id": "spz3S4TVizi4"
      },
      "execution_count": null,
      "outputs": []
    },
    {
      "cell_type": "markdown",
      "source": [
        "## 1.C) - Crear un programa mediante las dos variables creadas en el segundo ejercicio, intentar sumar sus valores y almacenarlo en una tercera variable `<resultado>`.\n"
      ],
      "metadata": {
        "id": "eOTfUZD9cgI7"
      }
    },
    {
      "cell_type": "code",
      "source": [
        "x = 10\n",
        "\n",
        "y = 5\n",
        "\n",
        "resultado = x/y"
      ],
      "metadata": {
        "id": "n-YmyllRctyZ"
      },
      "execution_count": null,
      "outputs": []
    },
    {
      "cell_type": "code",
      "source": [
        "x = 10\n",
        "\n",
        "y = 5\n",
        "\n",
        "resultado = x*y"
      ],
      "metadata": {
        "id": "8vzi_29NRsOL"
      },
      "execution_count": null,
      "outputs": []
    },
    {
      "cell_type": "markdown",
      "source": [
        "## 1.D) - Crear un programa  donde se imprima el valor de la variable `<resultado>` en la consola del ejercicio anterior."
      ],
      "metadata": {
        "id": "RpL7RpxwkERm"
      }
    },
    {
      "cell_type": "code",
      "source": [
        "x = 10\n",
        "\n",
        "y = 5\n",
        "\n",
        "resultado = x/y\n",
        "\n",
        "print(\"Resultado: \", resultado) #Resultado = 2"
      ],
      "metadata": {
        "id": "kh-sx72VlHWA"
      },
      "execution_count": null,
      "outputs": []
    },
    {
      "cell_type": "code",
      "source": [
        "x = 10\n",
        "\n",
        "y = 5\n",
        "\n",
        "resultado = x*y\n",
        "\n",
        "print(\"Resultado: \", resultado) #Resultado = 50"
      ],
      "metadata": {
        "id": "XIPzvJF7RwHI"
      },
      "execution_count": null,
      "outputs": []
    },
    {
      "cell_type": "markdown",
      "source": [
        "## 1.E) - Crear un programa donde se imprima el valor de texto de la variable del primer ejercicio `<1.A>`."
      ],
      "metadata": {
        "id": "KN4-Kvv2cvXf"
      }
    },
    {
      "cell_type": "code",
      "source": [
        "print(\"Leandro\") #Entendiendo que solo hay que imprimir el valor que quedó luego de ingresado el nombre en <1.A>."
      ],
      "metadata": {
        "id": "tZVjVDVUmbjv"
      },
      "execution_count": null,
      "outputs": []
    },
    {
      "cell_type": "markdown",
      "source": [
        "## 1.F) - Crear un programa con dos variables con valores string y escribir uno con comillas simples  `<''>` y otro con dobles `<\"\">`."
      ],
      "metadata": {
        "id": "hHXWaSQPmcHr"
      }
    },
    {
      "cell_type": "code",
      "source": [
        "variable_con_comillas_simples = 'variable con comillas simples'"
      ],
      "metadata": {
        "id": "rUJIhWyanop0"
      },
      "execution_count": 1,
      "outputs": []
    },
    {
      "cell_type": "code",
      "source": [
        "variable_con_comillas_dobles = \"variable con comillas dobles\""
      ],
      "metadata": {
        "id": "e4CQMcztRy4B"
      },
      "execution_count": null,
      "outputs": []
    },
    {
      "cell_type": "markdown",
      "source": [
        "## 1.G) - Crear un programa donde se almacenar en una `<frase>` el siguiente enunciado '\"print()\" se utiliza para imprimir valores en la consola.' e imprimirla en la consola. Para ello, debes utilizar `<print()>`."
      ],
      "metadata": {
        "id": "tUgww8UunpGd"
      }
    },
    {
      "cell_type": "code",
      "source": [
        "frase = '\"print()\" se utiliza para imprimir valores en la consola.'\n",
        "\n",
        "print(frase)"
      ],
      "metadata": {
        "id": "-USQ9OuwqC6e"
      },
      "execution_count": null,
      "outputs": []
    },
    {
      "cell_type": "markdown",
      "source": [
        "## 1.H) - Crear un programa con el operador `<+>`donde concateno estos dos strings dentro de una variable. `<\"Esta es una \">` `<\"sola frase.\">`. Imprimir en consola.\n"
      ],
      "metadata": {
        "id": "coxBxcHxq2aq"
      }
    },
    {
      "cell_type": "code",
      "source": [
        "str1 = \"Esta es una \"\n",
        "\n",
        "str2 = \"sola frase.\"\n",
        "\n",
        "resultado = str1 + \" \" + str2\n",
        "\n",
        "print(resultado)"
      ],
      "metadata": {
        "id": "LqlYfxIRtzX5"
      },
      "execution_count": null,
      "outputs": []
    },
    {
      "cell_type": "markdown",
      "source": [
        "## 1.I) - Crear un programa similar a la anterior con la diferencia, que en lugar de concatenar solo strings, concatenando los strings de dos variables en una tercera. Usando las variables `<palabra1>` `<palabra2>`, donde en la primera variable tenga `<\"Programación\">` y la segunda `<\"Fácil\">`, imprimiendo en consola la variable concatenada."
      ],
      "metadata": {
        "id": "_ixzMtWvt-te"
      }
    },
    {
      "cell_type": "code",
      "source": [
        "p1 = \"Programación\"\n",
        "\n",
        "p2 = \"Fácil\"\n",
        "\n",
        "resultado = p1 + \" \" \"Fácil\"\n",
        "\n",
        "print(resultado)"
      ],
      "metadata": {
        "id": "7f30Zk-twIK5"
      },
      "execution_count": null,
      "outputs": []
    },
    {
      "cell_type": "markdown",
      "source": [
        "## 1.J) - Crear un programa donde concatenar el valor string de una variable y un valor string. Usando el operador `<+>` y la primera variable del ejercicio anterior y de la segunda variable solo la palabra, imprimiendo en consola."
      ],
      "metadata": {
        "id": "c7gsJjK1xQuK"
      }
    },
    {
      "cell_type": "code",
      "source": [
        "v1 = \"Hola \"\n",
        "\n",
        "\"Mundo\"\n",
        "\n",
        "resultado = v1 + \"Mundo\"\n",
        "\n",
        "print(resultado)"
      ],
      "metadata": {
        "id": "vxaWr2cVzHep"
      },
      "execution_count": null,
      "outputs": []
    },
    {
      "cell_type": "markdown",
      "source": [
        "## 1.K) - Crear un programa que tenga tres variables con tu `<nombre>` y tus `<apellidos>`. En una cuarta variable, tenías que concatenar estos valores con los respectivos espacios para separar las palabras. Imprimiendo en consola."
      ],
      "metadata": {
        "id": "Fp_kNlXozpyw"
      }
    },
    {
      "cell_type": "code",
      "source": [
        "n1 = \"Leandro \"\n",
        "\n",
        "a1 = \"Berraz \"\n",
        "\n",
        "a2 = \"Oroño\"\n",
        "\n",
        "resultado = n1+a1+a2\n",
        "\n",
        "print(resultado)"
      ],
      "metadata": {
        "id": "3lE9aY_00-BU"
      },
      "execution_count": null,
      "outputs": []
    },
    {
      "cell_type": "markdown",
      "source": [
        "## 1.L) - Escribir un programa que pregunte el nombre del usuario en la consola y después de que el usuario lo introduzca muestre por pantalla la cadena ¡Hola <nombre>!, donde <nombre> es el nombre que el usuario haya introducido."
      ],
      "metadata": {
        "id": "8n0PB7g8ASr6"
      }
    },
    {
      "cell_type": "code",
      "source": [
        "# Solicita el nombre del usuario\n",
        "nombre = input(\"Por favor, ingresa tu nombre: \")\n",
        "\n",
        "# Muestra el saludo personalizado\n",
        "print(f\"¡Hola {nombre}!\")"
      ],
      "metadata": {
        "id": "dE-navIyAY5J",
        "colab": {
          "base_uri": "https://localhost:8080/"
        },
        "outputId": "8839f1b8-306a-403c-c3d6-18feea1c0dd8"
      },
      "execution_count": 2,
      "outputs": [
        {
          "output_type": "stream",
          "name": "stdout",
          "text": [
            "Por favor, ingresa tu nombre: Leo\n",
            "¡Hola Leo!\n"
          ]
        }
      ]
    },
    {
      "cell_type": "markdown",
      "source": [
        "## 1.L) - Escribe un programa que pregunte al usuario por el número de horas trabajadas y el coste por hora. Después debe mostrar por pantalla la paga que le corresponde."
      ],
      "metadata": {
        "id": "i3sKrBZoAp6A"
      }
    },
    {
      "cell_type": "code",
      "source": [
        "# Solicita el número de horas trabajadas\n",
        "horas = float(input(\"Introduce el número de horas trabajadas: \"))\n",
        "\n",
        "# Solicita el coste por hora\n",
        "coste_por_hora = float(input(\"Introduce el coste por hora: \"))\n",
        "\n",
        "# Calcula la paga total\n",
        "paga_total = horas * coste_por_hora\n",
        "\n",
        "# Muestra el resultado\n",
        "print(f\"La paga total que te corresponde es: {paga_total}\")"
      ],
      "metadata": {
        "id": "KU-sTBsASMK8"
      },
      "execution_count": null,
      "outputs": []
    },
    {
      "cell_type": "markdown",
      "source": [
        "## 1.O) - Escribir un programa que pida al usuario su peso (en kg) y estatura (en metros), calcule el índice de masa corporal y lo almacene en una variable, e imprima por pantalla la frase `Tu índice de masa corporal es <imc>` donde `<imc>` es el índice de masa corporal calculado redondeado con dos decimales."
      ],
      "metadata": {
        "id": "3R_3UDdWA6qq"
      }
    },
    {
      "cell_type": "code",
      "source": [
        "# Solicita el peso en kilogramos\n",
        "peso = float(input(\"Introduce tu peso en kg: \"))\n",
        "\n",
        "# Solicita la estatura en metros\n",
        "estatura = float(input(\"Introduce tu estatura en metros: \"))\n",
        "\n",
        "# Calcula el índice de masa corporal (IMC)\n",
        "imc = peso / (estatura ** 2)\n",
        "\n",
        "# Muestra el resultado redondeado a dos decimales\n",
        "print(f\"Tu índice de masa corporal es {imc:.2f}\")"
      ],
      "metadata": {
        "id": "crx5GwadBdUd",
        "colab": {
          "base_uri": "https://localhost:8080/"
        },
        "outputId": "0cfeb758-d17d-4a87-ffee-11b8bf5a5426"
      },
      "execution_count": 4,
      "outputs": [
        {
          "output_type": "stream",
          "name": "stdout",
          "text": [
            "Introduce tu peso en kg: 80\n",
            "Introduce tu estatura en metros: 1.80\n",
            "Tu índice de masa corporal es 24.69\n"
          ]
        }
      ]
    },
    {
      "cell_type": "markdown",
      "source": [
        "## 1.P) - Escribir un programa que pida al usuario dos números enteros y muestre por pantalla la `<n> entre <m> da un cociente <c> y un resto <r>` donde `<n>` y `<m>` son los números introducidos por el usuario, y `<c>` y `<r>` son el cociente y el resto de la división entera respectivamente."
      ],
      "metadata": {
        "id": "vwCGphXjBpHo"
      }
    },
    {
      "cell_type": "code",
      "source": [],
      "metadata": {
        "id": "787za_5nBs5t"
      },
      "execution_count": null,
      "outputs": []
    },
    {
      "cell_type": "markdown",
      "source": [
        "## 2.A) - Escribir un programa que pregunte al usuario su edad y muestre por pantalla si es mayor de edad o no."
      ],
      "metadata": {
        "id": "kMyE-MIjIhkE"
      }
    },
    {
      "cell_type": "code",
      "source": [
        "edad = input(\"Cuál es su edad? \")\n",
        "\n",
        "edad = int(edad)\n",
        "\n",
        "if edad >= 18:\n",
        "  print(\"Usted es mayor de edad\")\n",
        "else:\n",
        "  print(\"Usted es menor de edad\")"
      ],
      "metadata": {
        "id": "DwbyQoQXIqDQ",
        "colab": {
          "base_uri": "https://localhost:8080/"
        },
        "outputId": "a47570f3-6cbd-4e62-ddbd-f771f4bae983"
      },
      "execution_count": 6,
      "outputs": [
        {
          "output_type": "stream",
          "name": "stdout",
          "text": [
            "Cuál es su edad? 18\n",
            "Usted es mayor de edad\n"
          ]
        }
      ]
    },
    {
      "cell_type": "markdown",
      "source": [
        "## 2.B) - Escribir un programa que almacene la cadena de caracteres `contraseña` en una variable, pregunte al usuario por la contraseña e imprima por pantalla si la contraseña introducida por el usuario coincide con la guardada en la variable sin tener en cuenta mayúsculas y minúsculas."
      ],
      "metadata": {
        "id": "T0WuQ80bJFrJ"
      }
    },
    {
      "cell_type": "code",
      "source": [
        "contraseña = input(\"Introduzca la contraseña: \")\n",
        "\n",
        "contraseña_correcta = \"contraseña\"\n",
        "\n",
        "if contraseña.lower() == contraseña_correcta:\n",
        "  print(\"La contraseña es correcta.\")\n",
        "else:\n",
        "  print(\"La contraseña es incorrecta.\")"
      ],
      "metadata": {
        "id": "BagbdhcQLDMT",
        "colab": {
          "base_uri": "https://localhost:8080/"
        },
        "outputId": "7cdc742a-6137-4e42-c1c1-1380c23a8d30"
      },
      "execution_count": 9,
      "outputs": [
        {
          "output_type": "stream",
          "name": "stdout",
          "text": [
            "Introduzca la contraseña: Contraseña\n",
            "La contraseña es correcta.\n"
          ]
        }
      ]
    },
    {
      "cell_type": "markdown",
      "source": [
        "## 2.C) - Para tributar un determinado impuesto se debe ser mayor de 16 años y tener unos ingresos superiores a 100000 $ mensuales. Escribir un programa que pregunte al usuario su edad y sus ingresos mensuales y muestre por pantalla si el usuario tiene que tributar o no."
      ],
      "metadata": {
        "id": "mGuvdyH2LD83"
      }
    },
    {
      "cell_type": "code",
      "source": [
        "edad = int(input(\"Cuál es su edad? \"))\n",
        "\n",
        "ingresos = int(input(\"Cuál es su ingreso mensual \"))\n",
        "\n",
        "if edad > 16 and ingresos > 100000:\n",
        "   print(\"Usted puede tributar un determinado impuesto\")\n",
        "else:\n",
        "  print(\"Usted no puede tributar ningún impuesto\")"
      ],
      "metadata": {
        "id": "Ve9CUyT8L250",
        "outputId": "651c3b00-577a-48c3-db54-68a91dcc4c7f",
        "colab": {
          "base_uri": "https://localhost:8080/"
        }
      },
      "execution_count": null,
      "outputs": [
        {
          "output_type": "stream",
          "name": "stdout",
          "text": [
            "Cuál es su edad? 29\n",
            "Cuál es su ingreso mensual 700000\n",
            "Usted puede tributar un determinado impuesto\n"
          ]
        }
      ]
    },
    {
      "cell_type": "markdown",
      "source": [
        "## 2.D) - Los alumnos de un curso se han dividido en dos `grupos A y B` de acuerdo al sexo y el nombre. El `grupo A` esta formado por las mujeres con un nombre anterior a la `M` y los hombres con un nombre posterior a la `N` y el `grupo B` por el resto. Escribir un programa que pregunte al usuario su nombre y sexo, y muestre por pantalla el grupo que le corresponde."
      ],
      "metadata": {
        "id": "uPPWwjbLL3Qk"
      }
    },
    {
      "cell_type": "code",
      "source": [
        "nombre = input(\"Introduce tu nombre: \")\n",
        "\n",
        "sexo = input(\"Introduce tu sexo: (M para masculino y F para femenino): \")\n",
        "\n",
        "if (sexo == \"F\" and nombre.lower() < \"M\") or (sexo == \"M\" and nombre.lower() > \"N\"):\n",
        "   print(\"Perteneces al grupo A\")\n",
        "else:\n",
        "   print(\"Perteneces al grupo B\")"
      ],
      "metadata": {
        "id": "pWc3_K97L82K",
        "colab": {
          "base_uri": "https://localhost:8080/"
        },
        "outputId": "96f4e56e-bc27-41a9-845b-62b7f4421784"
      },
      "execution_count": null,
      "outputs": [
        {
          "output_type": "stream",
          "name": "stdout",
          "text": [
            "Introduce tu nombre: Leandro\n",
            "Introduce tu sexo: (M para masculino y F para femenino): F\n",
            "Perteneces al grupo B\n"
          ]
        }
      ]
    },
    {
      "cell_type": "markdown",
      "source": [
        "## 2.E) - Escrobir un programa que Imprimir todos los dígitos decimales, del 0 al 9, utilizando una repetición."
      ],
      "metadata": {
        "id": "O-k-EODQCo5X"
      }
    },
    {
      "cell_type": "code",
      "source": [
        "for i in range(10):\n",
        "   print(i)"
      ],
      "metadata": {
        "id": "nbQ3MfyGOos8",
        "colab": {
          "base_uri": "https://localhost:8080/"
        },
        "outputId": "a5c3d8e7-5851-4e4c-99ef-7c2a5ddc03d0"
      },
      "execution_count": 10,
      "outputs": [
        {
          "output_type": "stream",
          "name": "stdout",
          "text": [
            "0\n",
            "1\n",
            "2\n",
            "3\n",
            "4\n",
            "5\n",
            "6\n",
            "7\n",
            "8\n",
            "9\n"
          ]
        }
      ]
    },
    {
      "cell_type": "markdown",
      "source": [],
      "metadata": {
        "id": "oCY_vvayodfB"
      }
    },
    {
      "cell_type": "markdown",
      "source": [
        "## 2.G) - Escribir un programa que almacene las asignaturas de un curso (por ejemplo Matemáticas, Física, Química, Historia y Lengua) en una lista junto a la frase `Yo estudio` y la muestre por pantalla."
      ],
      "metadata": {
        "id": "LeOM-grqP1h1"
      }
    },
    {
      "cell_type": "code",
      "source": [],
      "metadata": {
        "id": "0f2us9QkQqUj"
      },
      "execution_count": null,
      "outputs": []
    },
    {
      "cell_type": "markdown",
      "source": [
        "## 2.H) - Escribir un programa que almacene las `asignaturas` de un curso (por ejemplo Matemáticas, Física, Química, Historia y Lengua) en una lista, pregunte al usuario la nota que ha sacado en cada `asignatura`, y después las muestre por pantalla con el mensaje En `<asignatura>` has sacado <nota> donde <asignatura> es cada una des las asignaturas de la lista y <nota> cada una de las correspondientes notas introducidas por el usuario."
      ],
      "metadata": {
        "id": "OS-Fp3krQpvH"
      }
    },
    {
      "cell_type": "code",
      "source": [],
      "metadata": {
        "id": "DfR_IfQ9Q-3z"
      },
      "execution_count": null,
      "outputs": []
    }
  ]
}